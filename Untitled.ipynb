{
 "cells": [
  {
   "cell_type": "code",
   "execution_count": 1,
   "metadata": {},
   "outputs": [],
   "source": [
    "from fugle_realtime_RESTful_api.fugle_realtime_RESTful_api import *"
   ]
  },
  {
   "cell_type": "code",
   "execution_count": 2,
   "metadata": {},
   "outputs": [],
   "source": [
    "chart = chart_api(api_token=\"7894659571542cf5032aff1b77dc77d8\")"
   ]
  },
  {
   "cell_type": "code",
   "execution_count": null,
   "metadata": {},
   "outputs": [],
   "source": []
  },
  {
   "cell_type": "code",
   "execution_count": null,
   "metadata": {},
   "outputs": [
    {
     "name": "stdout",
     "output_type": "stream",
     "text": [
      " * Serving Flask app \"__main__\" (lazy loading)\n",
      " * Environment: production\n",
      "\u001b[31m   WARNING: This is a development server. Do not use it in a production deployment.\u001b[0m\n",
      "\u001b[2m   Use a production WSGI server instead.\u001b[0m\n",
      " * Debug mode: off\n"
     ]
    },
    {
     "name": "stderr",
     "output_type": "stream",
     "text": [
      " * Running on http://127.0.0.1:8050/ (Press CTRL+C to quit)\n",
      "127.0.0.1 - - [27/Jul/2020 09:33:35] \"\u001b[37mGET / HTTP/1.1\u001b[0m\" 200 -\n",
      "127.0.0.1 - - [27/Jul/2020 09:33:35] \"\u001b[37mGET /_dash-layout HTTP/1.1\u001b[0m\" 200 -\n",
      "127.0.0.1 - - [27/Jul/2020 09:33:35] \"\u001b[37mGET /_dash-dependencies HTTP/1.1\u001b[0m\" 200 -\n",
      "127.0.0.1 - - [27/Jul/2020 09:33:35] \"\u001b[37mPOST /_dash-update-component HTTP/1.1\u001b[0m\" 200 -\n",
      "127.0.0.1 - - [27/Jul/2020 09:33:45] \"\u001b[37mPOST /_dash-update-component HTTP/1.1\u001b[0m\" 200 -\n",
      "127.0.0.1 - - [27/Jul/2020 09:33:55] \"\u001b[37mPOST /_dash-update-component HTTP/1.1\u001b[0m\" 200 -\n",
      "127.0.0.1 - - [27/Jul/2020 09:34:05] \"\u001b[37mPOST /_dash-update-component HTTP/1.1\u001b[0m\" 200 -\n",
      "127.0.0.1 - - [27/Jul/2020 09:34:15] \"\u001b[37mPOST /_dash-update-component HTTP/1.1\u001b[0m\" 200 -\n",
      "127.0.0.1 - - [27/Jul/2020 09:34:25] \"\u001b[37mPOST /_dash-update-component HTTP/1.1\u001b[0m\" 200 -\n",
      "127.0.0.1 - - [27/Jul/2020 09:34:35] \"\u001b[37mPOST /_dash-update-component HTTP/1.1\u001b[0m\" 200 -\n",
      "127.0.0.1 - - [27/Jul/2020 09:34:46] \"\u001b[37mPOST /_dash-update-component HTTP/1.1\u001b[0m\" 200 -\n",
      "127.0.0.1 - - [27/Jul/2020 09:35:01] \"\u001b[37mPOST /_dash-update-component HTTP/1.1\u001b[0m\" 200 -\n",
      "127.0.0.1 - - [27/Jul/2020 09:35:16] \"\u001b[37mPOST /_dash-update-component HTTP/1.1\u001b[0m\" 200 -\n"
     ]
    }
   ],
   "source": [
    "external_stylesheets = ['https://codepen.io/chriddyp/pen/bWLwgP.css']\n",
    "app = dash.Dash(__name__, external_stylesheets=external_stylesheets)\n",
    "\n",
    "app.layout = html.Div(children=[\n",
    "    dcc.Graph(id='min_K_plot', style={'height':'80vh', 'width':'75%',\n",
    "                                      'vertical-align':'top','display':'inline-block'}),\n",
    "    dcc.Interval(id='interval_60s', interval=10*1000),\n",
    "])\n",
    "\n",
    "#The \"inputs\" and \"outputs\" of our application interface are described declaratively through the app.callback decorator.\n",
    "@app.callback(\n",
    "    Output('min_K_plot', 'figure'),\n",
    "    [\n",
    "        Input('interval_60s', 'n_intervals')\n",
    "    ]\n",
    ")\n",
    "\n",
    "def candlestick_chart(interval_60s):\n",
    "    \n",
    "    df_ohlc = chart.get_chart_data(1, \"2417\")\n",
    "    \n",
    "    return {\n",
    "        'data':[\n",
    "            chart.plot_ohlc(df_ohlc, 'red', 'green'),\n",
    "            chart.plot_MA(df_ohlc, 3, 'black', 3),\n",
    "            chart.plot_MA(df_ohlc, 5, 'brown', 3),\n",
    "            chart.plot_MA(df_ohlc, 10, 'blue', 1),\n",
    "            chart.plot_volume_bar(df_ohlc, 'red', 'green'),\n",
    "        ],\n",
    "        'layout':{\n",
    "            'xaxis':{'rangeslider':{'visible': False}, 'anchor':'y2'},\n",
    "            'yaxis':{'domain':[0.4, 1]},\n",
    "            'yaxis2':{'domain':[0, 0.35]},\n",
    "            'legend':{'orientation':'h'}, \n",
    "            'title':'分K線圖'\n",
    "        }\n",
    "    }\n",
    "\n",
    "if __name__ == '__main__':\n",
    "    app.run_server()"
   ]
  },
  {
   "cell_type": "code",
   "execution_count": null,
   "metadata": {},
   "outputs": [],
   "source": []
  }
 ],
 "metadata": {
  "kernelspec": {
   "display_name": "Python 3",
   "language": "python",
   "name": "python3"
  },
  "language_info": {
   "codemirror_mode": {
    "name": "ipython",
    "version": 3
   },
   "file_extension": ".py",
   "mimetype": "text/x-python",
   "name": "python",
   "nbconvert_exporter": "python",
   "pygments_lexer": "ipython3",
   "version": "3.7.3"
  }
 },
 "nbformat": 4,
 "nbformat_minor": 4
}
